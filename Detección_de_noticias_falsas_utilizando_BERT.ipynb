{
  "metadata": {
    "kernelspec": {
      "language": "python",
      "display_name": "Python 3",
      "name": "python3"
    },
    "language_info": {
      "name": "python",
      "version": "3.7.10",
      "mimetype": "text/x-python",
      "codemirror_mode": {
        "name": "ipython",
        "version": 3
      },
      "pygments_lexer": "ipython3",
      "nbconvert_exporter": "python",
      "file_extension": ".py"
    },
    "colab": {
      "provenance": [],
      "collapsed_sections": [],
      "include_colab_link": true
    }
  },
  "nbformat_minor": 0,
  "nbformat": 4,
  "cells": [
    {
      "cell_type": "markdown",
      "metadata": {
        "id": "view-in-github",
        "colab_type": "text"
      },
      "source": [
        "<a href=\"https://colab.research.google.com/github/DauoDauo/ABC/blob/master/Detecci%C3%B3n_de_noticias_falsas_utilizando_BERT.ipynb\" target=\"_parent\"><img src=\"https://colab.research.google.com/assets/colab-badge.svg\" alt=\"Open In Colab\"/></a>"
      ]
    },
    {
      "cell_type": "code",
      "source": [
        "! pip install transformers"
      ],
      "metadata": {
        "_uuid": "8f2839f25d086af736a60e9eeb907d3b93b6e0e5",
        "_cell_guid": "b1076dfc-b9ad-4769-8c92-a6c4dae69d19",
        "execution": {
          "iopub.status.busy": "2022-10-01T14:22:06.105367Z",
          "iopub.execute_input": "2022-10-01T14:22:06.105727Z",
          "iopub.status.idle": "2022-10-01T14:22:14.003329Z",
          "shell.execute_reply.started": "2022-10-01T14:22:06.105612Z",
          "shell.execute_reply": "2022-10-01T14:22:14.002454Z"
        },
        "trusted": true,
        "colab": {
          "base_uri": "https://localhost:8080/"
        },
        "id": "eTY143XCRvrZ",
        "outputId": "4da2c36d-093d-4a09-c555-e92c36e13912"
      },
      "execution_count": 3,
      "outputs": [
        {
          "output_type": "stream",
          "name": "stdout",
          "text": [
            "Looking in indexes: https://pypi.org/simple, https://us-python.pkg.dev/colab-wheels/public/simple/\n",
            "Requirement already satisfied: transformers in /usr/local/lib/python3.7/dist-packages (4.24.0)\n",
            "Requirement already satisfied: regex!=2019.12.17 in /usr/local/lib/python3.7/dist-packages (from transformers) (2022.6.2)\n",
            "Requirement already satisfied: numpy>=1.17 in /usr/local/lib/python3.7/dist-packages (from transformers) (1.21.6)\n",
            "Requirement already satisfied: huggingface-hub<1.0,>=0.10.0 in /usr/local/lib/python3.7/dist-packages (from transformers) (0.10.1)\n",
            "Requirement already satisfied: tqdm>=4.27 in /usr/local/lib/python3.7/dist-packages (from transformers) (4.64.1)\n",
            "Requirement already satisfied: importlib-metadata in /usr/local/lib/python3.7/dist-packages (from transformers) (4.13.0)\n",
            "Requirement already satisfied: pyyaml>=5.1 in /usr/local/lib/python3.7/dist-packages (from transformers) (6.0)\n",
            "Requirement already satisfied: packaging>=20.0 in /usr/local/lib/python3.7/dist-packages (from transformers) (21.3)\n",
            "Requirement already satisfied: tokenizers!=0.11.3,<0.14,>=0.11.1 in /usr/local/lib/python3.7/dist-packages (from transformers) (0.13.1)\n",
            "Requirement already satisfied: filelock in /usr/local/lib/python3.7/dist-packages (from transformers) (3.8.0)\n",
            "Requirement already satisfied: requests in /usr/local/lib/python3.7/dist-packages (from transformers) (2.23.0)\n",
            "Requirement already satisfied: typing-extensions>=3.7.4.3 in /usr/local/lib/python3.7/dist-packages (from huggingface-hub<1.0,>=0.10.0->transformers) (4.1.1)\n",
            "Requirement already satisfied: pyparsing!=3.0.5,>=2.0.2 in /usr/local/lib/python3.7/dist-packages (from packaging>=20.0->transformers) (3.0.9)\n",
            "Requirement already satisfied: zipp>=0.5 in /usr/local/lib/python3.7/dist-packages (from importlib-metadata->transformers) (3.10.0)\n",
            "Requirement already satisfied: urllib3!=1.25.0,!=1.25.1,<1.26,>=1.21.1 in /usr/local/lib/python3.7/dist-packages (from requests->transformers) (1.24.3)\n",
            "Requirement already satisfied: chardet<4,>=3.0.2 in /usr/local/lib/python3.7/dist-packages (from requests->transformers) (3.0.4)\n",
            "Requirement already satisfied: idna<3,>=2.5 in /usr/local/lib/python3.7/dist-packages (from requests->transformers) (2.10)\n",
            "Requirement already satisfied: certifi>=2017.4.17 in /usr/local/lib/python3.7/dist-packages (from requests->transformers) (2022.9.24)\n"
          ]
        }
      ]
    },
    {
      "cell_type": "code",
      "source": [
        "from tensorflow.keras.models import Model, Sequential\n",
        "from tensorflow.keras.layers import Dense, Dropout, Flatten, Conv2D, MaxPooling2D,Input\n",
        "from tensorflow.keras.callbacks import EarlyStopping\n",
        "from tensorflow.python.ops.numpy_ops import np_utils\n",
        "from transformers import BertModel, TFBertModel \n",
        "import tensorflow as tf\n",
        "from tensorflow.keras.optimizers import Adam\n",
        "from transformers import BertTokenizer, TFBertModel\n",
        "from tensorflow.keras import regularizers\n",
        "from sklearn.metrics import classification_report\n",
        "from sklearn.metrics import confusion_matrix"
      ],
      "metadata": {
        "execution": {
          "iopub.status.busy": "2022-10-01T14:22:14.005309Z",
          "iopub.execute_input": "2022-10-01T14:22:14.005770Z",
          "iopub.status.idle": "2022-10-01T14:22:24.449198Z",
          "shell.execute_reply.started": "2022-10-01T14:22:14.005728Z",
          "shell.execute_reply": "2022-10-01T14:22:24.448424Z"
        },
        "trusted": true,
        "id": "A5KYYvf9Rvrq"
      },
      "execution_count": 4,
      "outputs": []
    },
    {
      "cell_type": "code",
      "source": [
        "import pandas as pd\n",
        "from matplotlib import rcParams\n",
        "import seaborn as sns\n",
        "import numpy as np\n",
        "from PIL import Image\n",
        "from wordcloud import WordCloud\n",
        "from sklearn.model_selection import train_test_split\n",
        "from matplotlib import pyplot as plt\n",
        "from transformers import AutoTokenizer"
      ],
      "metadata": {
        "execution": {
          "iopub.status.busy": "2022-10-01T14:22:24.450492Z",
          "iopub.execute_input": "2022-10-01T14:22:24.450777Z",
          "iopub.status.idle": "2022-10-01T14:22:24.730965Z",
          "shell.execute_reply.started": "2022-10-01T14:22:24.450742Z",
          "shell.execute_reply": "2022-10-01T14:22:24.730213Z"
        },
        "trusted": true,
        "id": "FfOuQWA0Rvru"
      },
      "execution_count": 5,
      "outputs": []
    },
    {
      "cell_type": "markdown",
      "source": [
        "Load dataset"
      ],
      "metadata": {
        "id": "-OnQMHpmRvrv"
      }
    },
    {
      "cell_type": "code",
      "source": [
        "dataset_noticias=pd.read_csv(\"/content/sample_data/fake_or_real_news.csv\")\n"
      ],
      "metadata": {
        "execution": {
          "iopub.status.busy": "2022-10-01T14:22:24.732880Z",
          "iopub.execute_input": "2022-10-01T14:22:24.733151Z",
          "iopub.status.idle": "2022-10-01T14:22:27.445495Z",
          "shell.execute_reply.started": "2022-10-01T14:22:24.733117Z",
          "shell.execute_reply": "2022-10-01T14:22:27.444621Z"
        },
        "trusted": true,
        "id": "a26JasG6Rvrz"
      },
      "execution_count": 6,
      "outputs": []
    },
    {
      "cell_type": "markdown",
      "source": [
        "Data Analysis"
      ],
      "metadata": {
        "id": "nuFDXL1bRvr2"
      }
    },
    {
      "cell_type": "code",
      "source": [
        "dataset_noticias.head(10)"
      ],
      "metadata": {
        "execution": {
          "iopub.status.busy": "2022-10-01T14:23:44.070867Z",
          "iopub.execute_input": "2022-10-01T14:23:44.072707Z",
          "iopub.status.idle": "2022-10-01T14:23:44.092479Z",
          "shell.execute_reply.started": "2022-10-01T14:23:44.072641Z",
          "shell.execute_reply": "2022-10-01T14:23:44.091907Z"
        },
        "trusted": true,
        "colab": {
          "base_uri": "https://localhost:8080/",
          "height": 363
        },
        "id": "iW2K8awVRvsK",
        "outputId": "8a3f7fd8-44de-4d8e-fdac-b9d85dc2bf8a"
      },
      "execution_count": 7,
      "outputs": [
        {
          "output_type": "execute_result",
          "data": {
            "text/plain": [
              "   Unnamed: 0                                              title  \\\n",
              "0        8476                       You Can Smell Hillary’s Fear   \n",
              "1       10294  Watch The Exact Moment Paul Ryan Committed Pol...   \n",
              "2        3608        Kerry to go to Paris in gesture of sympathy   \n",
              "3       10142  Bernie supporters on Twitter erupt in anger ag...   \n",
              "4         875   The Battle of New York: Why This Primary Matters   \n",
              "5        6903                                        Tehran, USA   \n",
              "6        7341  Girl Horrified At What She Watches Boyfriend D...   \n",
              "7          95                  ‘Britain’s Schindler’ Dies at 106   \n",
              "8        4869  Fact check: Trump and Clinton at the 'commande...   \n",
              "9        2909  Iran reportedly makes new push for uranium con...   \n",
              "\n",
              "                                                text label  \n",
              "0  Daniel Greenfield, a Shillman Journalism Fello...  FAKE  \n",
              "1  Google Pinterest Digg Linkedin Reddit Stumbleu...  FAKE  \n",
              "2  U.S. Secretary of State John F. Kerry said Mon...  REAL  \n",
              "3  — Kaydee King (@KaydeeKing) November 9, 2016 T...  FAKE  \n",
              "4  It's primary day in New York and front-runners...  REAL  \n",
              "5    \\nI’m not an immigrant, but my grandparents ...  FAKE  \n",
              "6  Share This Baylee Luciani (left), Screenshot o...  FAKE  \n",
              "7  A Czech stockbroker who saved more than 650 Je...  REAL  \n",
              "8  Hillary Clinton and Donald Trump made some ina...  REAL  \n",
              "9  Iranian negotiators reportedly have made a las...  REAL  "
            ],
            "text/html": [
              "\n",
              "  <div id=\"df-c5b459d3-29a0-4909-b797-b2aee3b97196\">\n",
              "    <div class=\"colab-df-container\">\n",
              "      <div>\n",
              "<style scoped>\n",
              "    .dataframe tbody tr th:only-of-type {\n",
              "        vertical-align: middle;\n",
              "    }\n",
              "\n",
              "    .dataframe tbody tr th {\n",
              "        vertical-align: top;\n",
              "    }\n",
              "\n",
              "    .dataframe thead th {\n",
              "        text-align: right;\n",
              "    }\n",
              "</style>\n",
              "<table border=\"1\" class=\"dataframe\">\n",
              "  <thead>\n",
              "    <tr style=\"text-align: right;\">\n",
              "      <th></th>\n",
              "      <th>Unnamed: 0</th>\n",
              "      <th>title</th>\n",
              "      <th>text</th>\n",
              "      <th>label</th>\n",
              "    </tr>\n",
              "  </thead>\n",
              "  <tbody>\n",
              "    <tr>\n",
              "      <th>0</th>\n",
              "      <td>8476</td>\n",
              "      <td>You Can Smell Hillary’s Fear</td>\n",
              "      <td>Daniel Greenfield, a Shillman Journalism Fello...</td>\n",
              "      <td>FAKE</td>\n",
              "    </tr>\n",
              "    <tr>\n",
              "      <th>1</th>\n",
              "      <td>10294</td>\n",
              "      <td>Watch The Exact Moment Paul Ryan Committed Pol...</td>\n",
              "      <td>Google Pinterest Digg Linkedin Reddit Stumbleu...</td>\n",
              "      <td>FAKE</td>\n",
              "    </tr>\n",
              "    <tr>\n",
              "      <th>2</th>\n",
              "      <td>3608</td>\n",
              "      <td>Kerry to go to Paris in gesture of sympathy</td>\n",
              "      <td>U.S. Secretary of State John F. Kerry said Mon...</td>\n",
              "      <td>REAL</td>\n",
              "    </tr>\n",
              "    <tr>\n",
              "      <th>3</th>\n",
              "      <td>10142</td>\n",
              "      <td>Bernie supporters on Twitter erupt in anger ag...</td>\n",
              "      <td>— Kaydee King (@KaydeeKing) November 9, 2016 T...</td>\n",
              "      <td>FAKE</td>\n",
              "    </tr>\n",
              "    <tr>\n",
              "      <th>4</th>\n",
              "      <td>875</td>\n",
              "      <td>The Battle of New York: Why This Primary Matters</td>\n",
              "      <td>It's primary day in New York and front-runners...</td>\n",
              "      <td>REAL</td>\n",
              "    </tr>\n",
              "    <tr>\n",
              "      <th>5</th>\n",
              "      <td>6903</td>\n",
              "      <td>Tehran, USA</td>\n",
              "      <td>\\nI’m not an immigrant, but my grandparents ...</td>\n",
              "      <td>FAKE</td>\n",
              "    </tr>\n",
              "    <tr>\n",
              "      <th>6</th>\n",
              "      <td>7341</td>\n",
              "      <td>Girl Horrified At What She Watches Boyfriend D...</td>\n",
              "      <td>Share This Baylee Luciani (left), Screenshot o...</td>\n",
              "      <td>FAKE</td>\n",
              "    </tr>\n",
              "    <tr>\n",
              "      <th>7</th>\n",
              "      <td>95</td>\n",
              "      <td>‘Britain’s Schindler’ Dies at 106</td>\n",
              "      <td>A Czech stockbroker who saved more than 650 Je...</td>\n",
              "      <td>REAL</td>\n",
              "    </tr>\n",
              "    <tr>\n",
              "      <th>8</th>\n",
              "      <td>4869</td>\n",
              "      <td>Fact check: Trump and Clinton at the 'commande...</td>\n",
              "      <td>Hillary Clinton and Donald Trump made some ina...</td>\n",
              "      <td>REAL</td>\n",
              "    </tr>\n",
              "    <tr>\n",
              "      <th>9</th>\n",
              "      <td>2909</td>\n",
              "      <td>Iran reportedly makes new push for uranium con...</td>\n",
              "      <td>Iranian negotiators reportedly have made a las...</td>\n",
              "      <td>REAL</td>\n",
              "    </tr>\n",
              "  </tbody>\n",
              "</table>\n",
              "</div>\n",
              "      <button class=\"colab-df-convert\" onclick=\"convertToInteractive('df-c5b459d3-29a0-4909-b797-b2aee3b97196')\"\n",
              "              title=\"Convert this dataframe to an interactive table.\"\n",
              "              style=\"display:none;\">\n",
              "        \n",
              "  <svg xmlns=\"http://www.w3.org/2000/svg\" height=\"24px\"viewBox=\"0 0 24 24\"\n",
              "       width=\"24px\">\n",
              "    <path d=\"M0 0h24v24H0V0z\" fill=\"none\"/>\n",
              "    <path d=\"M18.56 5.44l.94 2.06.94-2.06 2.06-.94-2.06-.94-.94-2.06-.94 2.06-2.06.94zm-11 1L8.5 8.5l.94-2.06 2.06-.94-2.06-.94L8.5 2.5l-.94 2.06-2.06.94zm10 10l.94 2.06.94-2.06 2.06-.94-2.06-.94-.94-2.06-.94 2.06-2.06.94z\"/><path d=\"M17.41 7.96l-1.37-1.37c-.4-.4-.92-.59-1.43-.59-.52 0-1.04.2-1.43.59L10.3 9.45l-7.72 7.72c-.78.78-.78 2.05 0 2.83L4 21.41c.39.39.9.59 1.41.59.51 0 1.02-.2 1.41-.59l7.78-7.78 2.81-2.81c.8-.78.8-2.07 0-2.86zM5.41 20L4 18.59l7.72-7.72 1.47 1.35L5.41 20z\"/>\n",
              "  </svg>\n",
              "      </button>\n",
              "      \n",
              "  <style>\n",
              "    .colab-df-container {\n",
              "      display:flex;\n",
              "      flex-wrap:wrap;\n",
              "      gap: 12px;\n",
              "    }\n",
              "\n",
              "    .colab-df-convert {\n",
              "      background-color: #E8F0FE;\n",
              "      border: none;\n",
              "      border-radius: 50%;\n",
              "      cursor: pointer;\n",
              "      display: none;\n",
              "      fill: #1967D2;\n",
              "      height: 32px;\n",
              "      padding: 0 0 0 0;\n",
              "      width: 32px;\n",
              "    }\n",
              "\n",
              "    .colab-df-convert:hover {\n",
              "      background-color: #E2EBFA;\n",
              "      box-shadow: 0px 1px 2px rgba(60, 64, 67, 0.3), 0px 1px 3px 1px rgba(60, 64, 67, 0.15);\n",
              "      fill: #174EA6;\n",
              "    }\n",
              "\n",
              "    [theme=dark] .colab-df-convert {\n",
              "      background-color: #3B4455;\n",
              "      fill: #D2E3FC;\n",
              "    }\n",
              "\n",
              "    [theme=dark] .colab-df-convert:hover {\n",
              "      background-color: #434B5C;\n",
              "      box-shadow: 0px 1px 3px 1px rgba(0, 0, 0, 0.15);\n",
              "      filter: drop-shadow(0px 1px 2px rgba(0, 0, 0, 0.3));\n",
              "      fill: #FFFFFF;\n",
              "    }\n",
              "  </style>\n",
              "\n",
              "      <script>\n",
              "        const buttonEl =\n",
              "          document.querySelector('#df-c5b459d3-29a0-4909-b797-b2aee3b97196 button.colab-df-convert');\n",
              "        buttonEl.style.display =\n",
              "          google.colab.kernel.accessAllowed ? 'block' : 'none';\n",
              "\n",
              "        async function convertToInteractive(key) {\n",
              "          const element = document.querySelector('#df-c5b459d3-29a0-4909-b797-b2aee3b97196');\n",
              "          const dataTable =\n",
              "            await google.colab.kernel.invokeFunction('convertToInteractive',\n",
              "                                                     [key], {});\n",
              "          if (!dataTable) return;\n",
              "\n",
              "          const docLinkHtml = 'Like what you see? Visit the ' +\n",
              "            '<a target=\"_blank\" href=https://colab.research.google.com/notebooks/data_table.ipynb>data table notebook</a>'\n",
              "            + ' to learn more about interactive tables.';\n",
              "          element.innerHTML = '';\n",
              "          dataTable['output_type'] = 'display_data';\n",
              "          await google.colab.output.renderOutput(dataTable, element);\n",
              "          const docLink = document.createElement('div');\n",
              "          docLink.innerHTML = docLinkHtml;\n",
              "          element.appendChild(docLink);\n",
              "        }\n",
              "      </script>\n",
              "    </div>\n",
              "  </div>\n",
              "  "
            ]
          },
          "metadata": {},
          "execution_count": 7
        }
      ]
    },
    {
      "cell_type": "code",
      "source": [
        "dataset_noticias.isnull().sum()"
      ],
      "metadata": {
        "execution": {
          "iopub.status.busy": "2022-10-01T14:23:44.095804Z",
          "iopub.execute_input": "2022-10-01T14:23:44.097897Z",
          "iopub.status.idle": "2022-10-01T14:23:44.127387Z",
          "shell.execute_reply.started": "2022-10-01T14:23:44.096332Z",
          "shell.execute_reply": "2022-10-01T14:23:44.126705Z"
        },
        "trusted": true,
        "colab": {
          "base_uri": "https://localhost:8080/"
        },
        "id": "yxvVPenqRvsL",
        "outputId": "e1b349d7-388f-4748-a2d3-e83b601c08fe"
      },
      "execution_count": 8,
      "outputs": [
        {
          "output_type": "execute_result",
          "data": {
            "text/plain": [
              "Unnamed: 0    0\n",
              "title         0\n",
              "text          0\n",
              "label         0\n",
              "dtype: int64"
            ]
          },
          "metadata": {},
          "execution_count": 8
        }
      ]
    },
    {
      "cell_type": "code",
      "source": [
        "dataset_noticias.label.value_counts()"
      ],
      "metadata": {
        "execution": {
          "iopub.status.busy": "2022-10-01T14:23:44.180019Z",
          "iopub.execute_input": "2022-10-01T14:23:44.180376Z",
          "iopub.status.idle": "2022-10-01T14:23:44.198760Z",
          "shell.execute_reply.started": "2022-10-01T14:23:44.180343Z",
          "shell.execute_reply": "2022-10-01T14:23:44.198054Z"
        },
        "trusted": true,
        "colab": {
          "base_uri": "https://localhost:8080/"
        },
        "id": "FmrMmzR8RvsN",
        "outputId": "67420a40-5d42-4e27-8fed-d68f5c325c98"
      },
      "execution_count": 9,
      "outputs": [
        {
          "output_type": "execute_result",
          "data": {
            "text/plain": [
              "REAL    3171\n",
              "FAKE    3164\n",
              "Name: label, dtype: int64"
            ]
          },
          "metadata": {},
          "execution_count": 9
        }
      ]
    },
    {
      "cell_type": "code",
      "source": [
        "sns.set_theme(style=\"whitegrid\")\n",
        "sns.countplot(x=dataset_noticias[\"label\"])"
      ],
      "metadata": {
        "execution": {
          "iopub.status.busy": "2022-10-01T14:23:44.202362Z",
          "iopub.execute_input": "2022-10-01T14:23:44.202743Z",
          "iopub.status.idle": "2022-10-01T14:23:44.498006Z",
          "shell.execute_reply.started": "2022-10-01T14:23:44.202711Z",
          "shell.execute_reply": "2022-10-01T14:23:44.497294Z"
        },
        "trusted": true,
        "colab": {
          "base_uri": "https://localhost:8080/",
          "height": 302
        },
        "id": "sN9yBrwwRvsO",
        "outputId": "b3acb5df-c88c-43e4-c3de-ebec0ce84ae1"
      },
      "execution_count": 10,
      "outputs": [
        {
          "output_type": "execute_result",
          "data": {
            "text/plain": [
              "<matplotlib.axes._subplots.AxesSubplot at 0x7f41427fb650>"
            ]
          },
          "metadata": {},
          "execution_count": 10
        },
        {
          "output_type": "display_data",
          "data": {
            "text/plain": [
              "<Figure size 432x288 with 1 Axes>"
            ],
            "image/png": "[encoded data removed]"
          },
          "metadata": {}
        }
      ]
    },
    {
      "cell_type": "code",
      "source": [
        "dataset_noticias.head(3)"
      ],
      "metadata": {
        "execution": {
          "iopub.status.busy": "2022-10-01T14:23:44.499325Z",
          "iopub.execute_input": "2022-10-01T14:23:44.499733Z",
          "iopub.status.idle": "2022-10-01T14:23:44.513506Z",
          "shell.execute_reply.started": "2022-10-01T14:23:44.499696Z",
          "shell.execute_reply": "2022-10-01T14:23:44.512585Z"
        },
        "trusted": true,
        "colab": {
          "base_uri": "https://localhost:8080/",
          "height": 143
        },
        "id": "FyYKtBbVRvsO",
        "outputId": "b784b2bc-8baf-4d31-e800-486cfedd1956"
      },
      "execution_count": 11,
      "outputs": [
        {
          "output_type": "execute_result",
          "data": {
            "text/plain": [
              "   Unnamed: 0                                              title  \\\n",
              "0        8476                       You Can Smell Hillary’s Fear   \n",
              "1       10294  Watch The Exact Moment Paul Ryan Committed Pol...   \n",
              "2        3608        Kerry to go to Paris in gesture of sympathy   \n",
              "\n",
              "                                                text label  \n",
              "0  Daniel Greenfield, a Shillman Journalism Fello...  FAKE  \n",
              "1  Google Pinterest Digg Linkedin Reddit Stumbleu...  FAKE  \n",
              "2  U.S. Secretary of State John F. Kerry said Mon...  REAL  "
            ],
            "text/html": [
              "\n",
              "  <div id=\"df-770cf37b-902f-4378-a2f6-bb93de4d706a\">\n",
              "    <div class=\"colab-df-container\">\n",
              "      <div>\n",
              "<style scoped>\n",
              "    .dataframe tbody tr th:only-of-type {\n",
              "        vertical-align: middle;\n",
              "    }\n",
              "\n",
              "    .dataframe tbody tr th {\n",
              "        vertical-align: top;\n",
              "    }\n",
              "\n",
              "    .dataframe thead th {\n",
              "        text-align: right;\n",
              "    }\n",
              "</style>\n",
              "<table border=\"1\" class=\"dataframe\">\n",
              "  <thead>\n",
              "    <tr style=\"text-align: right;\">\n",
              "      <th></th>\n",
              "      <th>Unnamed: 0</th>\n",
              "      <th>title</th>\n",
              "      <th>text</th>\n",
              "      <th>label</th>\n",
              "    </tr>\n",
              "  </thead>\n",
              "  <tbody>\n",
              "    <tr>\n",
              "      <th>0</th>\n",
              "      <td>8476</td>\n",
              "      <td>You Can Smell Hillary’s Fear</td>\n",
              "      <td>Daniel Greenfield, a Shillman Journalism Fello...</td>\n",
              "      <td>FAKE</td>\n",
              "    </tr>\n",
              "    <tr>\n",
              "      <th>1</th>\n",
              "      <td>10294</td>\n",
              "      <td>Watch The Exact Moment Paul Ryan Committed Pol...</td>\n",
              "      <td>Google Pinterest Digg Linkedin Reddit Stumbleu...</td>\n",
              "      <td>FAKE</td>\n",
              "    </tr>\n",
              "    <tr>\n",
              "      <th>2</th>\n",
              "      <td>3608</td>\n",
              "      <td>Kerry to go to Paris in gesture of sympathy</td>\n",
              "      <td>U.S. Secretary of State John F. Kerry said Mon...</td>\n",
              "      <td>REAL</td>\n",
              "    </tr>\n",
              "  </tbody>\n",
              "</table>\n",
              "</div>\n",
              "      <button class=\"colab-df-convert\" onclick=\"convertToInteractive('df-770cf37b-902f-4378-a2f6-bb93de4d706a')\"\n",
              "              title=\"Convert this dataframe to an interactive table.\"\n",
              "              style=\"display:none;\">\n",
              "        \n",
              "  <svg xmlns=\"http://www.w3.org/2000/svg\" height=\"24px\"viewBox=\"0 0 24 24\"\n",
              "       width=\"24px\">\n",
              "    <path d=\"M0 0h24v24H0V0z\" fill=\"none\"/>\n",
              "    <path d=\"M18.56 5.44l.94 2.06.94-2.06 2.06-.94-2.06-.94-.94-2.06-.94 2.06-2.06.94zm-11 1L8.5 8.5l.94-2.06 2.06-.94-2.06-.94L8.5 2.5l-.94 2.06-2.06.94zm10 10l.94 2.06.94-2.06 2.06-.94-2.06-.94-.94-2.06-.94 2.06-2.06.94z\"/><path d=\"M17.41 7.96l-1.37-1.37c-.4-.4-.92-.59-1.43-.59-.52 0-1.04.2-1.43.59L10.3 9.45l-7.72 7.72c-.78.78-.78 2.05 0 2.83L4 21.41c.39.39.9.59 1.41.59.51 0 1.02-.2 1.41-.59l7.78-7.78 2.81-2.81c.8-.78.8-2.07 0-2.86zM5.41 20L4 18.59l7.72-7.72 1.47 1.35L5.41 20z\"/>\n",
              "  </svg>\n",
              "      </button>\n",
              "      \n",
              "  <style>\n",
              "    .colab-df-container {\n",
              "      display:flex;\n",
              "      flex-wrap:wrap;\n",
              "      gap: 12px;\n",
              "    }\n",
              "\n",
              "    .colab-df-convert {\n",
              "      background-color: #E8F0FE;\n",
              "      border: none;\n",
              "      border-radius: 50%;\n",
              "      cursor: pointer;\n",
              "      display: none;\n",
              "      fill: #1967D2;\n",
              "      height: 32px;\n",
              "      padding: 0 0 0 0;\n",
              "      width: 32px;\n",
              "    }\n",
              "\n",
              "    .colab-df-convert:hover {\n",
              "      background-color: #E2EBFA;\n",
              "      box-shadow: 0px 1px 2px rgba(60, 64, 67, 0.3), 0px 1px 3px 1px rgba(60, 64, 67, 0.15);\n",
              "      fill: #174EA6;\n",
              "    }\n",
              "\n",
              "    [theme=dark] .colab-df-convert {\n",
              "      background-color: #3B4455;\n",
              "      fill: #D2E3FC;\n",
              "    }\n",
              "\n",
              "    [theme=dark] .colab-df-convert:hover {\n",
              "      background-color: #434B5C;\n",
              "      box-shadow: 0px 1px 3px 1px rgba(0, 0, 0, 0.15);\n",
              "      filter: drop-shadow(0px 1px 2px rgba(0, 0, 0, 0.3));\n",
              "      fill: #FFFFFF;\n",
              "    }\n",
              "  </style>\n",
              "\n",
              "      <script>\n",
              "        const buttonEl =\n",
              "          document.querySelector('#df-770cf37b-902f-4378-a2f6-bb93de4d706a button.colab-df-convert');\n",
              "        buttonEl.style.display =\n",
              "          google.colab.kernel.accessAllowed ? 'block' : 'none';\n",
              "\n",
              "        async function convertToInteractive(key) {\n",
              "          const element = document.querySelector('#df-770cf37b-902f-4378-a2f6-bb93de4d706a');\n",
              "          const dataTable =\n",
              "            await google.colab.kernel.invokeFunction('convertToInteractive',\n",
              "                                                     [key], {});\n",
              "          if (!dataTable) return;\n",
              "\n",
              "          const docLinkHtml = 'Like what you see? Visit the ' +\n",
              "            '<a target=\"_blank\" href=https://colab.research.google.com/notebooks/data_table.ipynb>data table notebook</a>'\n",
              "            + ' to learn more about interactive tables.';\n",
              "          element.innerHTML = '';\n",
              "          dataTable['output_type'] = 'display_data';\n",
              "          await google.colab.output.renderOutput(dataTable, element);\n",
              "          const docLink = document.createElement('div');\n",
              "          docLink.innerHTML = docLinkHtml;\n",
              "          element.appendChild(docLink);\n",
              "        }\n",
              "      </script>\n",
              "    </div>\n",
              "  </div>\n",
              "  "
            ]
          },
          "metadata": {},
          "execution_count": 11
        }
      ]
    },
    {
      "cell_type": "code",
      "source": [
        "dataset_noticias[\"text\"]=dataset_noticias[\"title\"]+dataset_noticias[\"text\"]"
      ],
      "metadata": {
        "execution": {
          "iopub.status.busy": "2022-10-01T14:23:44.516343Z",
          "iopub.execute_input": "2022-10-01T14:23:44.516540Z",
          "iopub.status.idle": "2022-10-01T14:23:44.670132Z",
          "shell.execute_reply.started": "2022-10-01T14:23:44.516517Z",
          "shell.execute_reply": "2022-10-01T14:23:44.669385Z"
        },
        "trusted": true,
        "id": "OUrp1SQ7RvsP"
      },
      "execution_count": 12,
      "outputs": []
    },
    {
      "cell_type": "code",
      "source": [
        "dataset_noticias=dataset_noticias[[\"text\",\"label\"]]"
      ],
      "metadata": {
        "execution": {
          "iopub.status.busy": "2022-10-01T14:23:44.671206Z",
          "iopub.execute_input": "2022-10-01T14:23:44.671460Z",
          "iopub.status.idle": "2022-10-01T14:23:44.680404Z",
          "shell.execute_reply.started": "2022-10-01T14:23:44.671427Z",
          "shell.execute_reply": "2022-10-01T14:23:44.679636Z"
        },
        "trusted": true,
        "id": "rRFXMjKhRvsP"
      },
      "execution_count": 13,
      "outputs": []
    },
    {
      "cell_type": "code",
      "source": [
        "dataset_noticias['label'] = dataset_noticias['label'].map({'REAL':1, 'FAKE':0})"
      ],
      "metadata": {
        "execution": {
          "iopub.status.busy": "2022-10-01T14:23:44.681856Z",
          "iopub.execute_input": "2022-10-01T14:23:44.682113Z",
          "iopub.status.idle": "2022-10-01T14:23:44.695141Z",
          "shell.execute_reply.started": "2022-10-01T14:23:44.682081Z",
          "shell.execute_reply": "2022-10-01T14:23:44.694264Z"
        },
        "trusted": true,
        "id": "C2efgk_ARvsQ"
      },
      "execution_count": 14,
      "outputs": []
    },
    {
      "cell_type": "code",
      "source": [
        "dataset_noticias.sample(5)"
      ],
      "metadata": {
        "execution": {
          "iopub.status.busy": "2022-10-01T14:23:44.696275Z",
          "iopub.execute_input": "2022-10-01T14:23:44.696537Z",
          "iopub.status.idle": "2022-10-01T14:23:44.707594Z",
          "shell.execute_reply.started": "2022-10-01T14:23:44.696496Z",
          "shell.execute_reply": "2022-10-01T14:23:44.706720Z"
        },
        "trusted": true,
        "colab": {
          "base_uri": "https://localhost:8080/",
          "height": 206
        },
        "id": "nscu0sDTRvsQ",
        "outputId": "ccea3c6b-2178-4465-8292-aed1c60c9a84"
      },
      "execution_count": 15,
      "outputs": [
        {
          "output_type": "execute_result",
          "data": {
            "text/plain": [
              "                                                   text  label\n",
              "3015  Why does ISIS keep making enemies?Peter Bergen...      1\n",
              "4877  Long Odds Ahead for Obama on His Troubled Trad...      1\n",
              "826   The Empire Files: Inside Palestine's Refugee C...      0\n",
              "4479  Judge Temporarily Halts Obama's Immigration Ac...      1\n",
              "4176  The GOP Is Writing Off 30 Percent of the Ameri...      1"
            ],
            "text/html": [
              "\n",
              "  <div id=\"df-ebf6f040-5ca8-4272-8ed7-70ef23f64a95\">\n",
              "    <div class=\"colab-df-container\">\n",
              "      <div>\n",
              "<style scoped>\n",
              "    .dataframe tbody tr th:only-of-type {\n",
              "        vertical-align: middle;\n",
              "    }\n",
              "\n",
              "    .dataframe tbody tr th {\n",
              "        vertical-align: top;\n",
              "    }\n",
              "\n",
              "    .dataframe thead th {\n",
              "        text-align: right;\n",
              "    }\n",
              "</style>\n",
              "<table border=\"1\" class=\"dataframe\">\n",
              "  <thead>\n",
              "    <tr style=\"text-align: right;\">\n",
              "      <th></th>\n",
              "      <th>text</th>\n",
              "      <th>label</th>\n",
              "    </tr>\n",
              "  </thead>\n",
              "  <tbody>\n",
              "    <tr>\n",
              "      <th>3015</th>\n",
              "      <td>Why does ISIS keep making enemies?Peter Bergen...</td>\n",
              "      <td>1</td>\n",
              "    </tr>\n",
              "    <tr>\n",
              "      <th>4877</th>\n",
              "      <td>Long Odds Ahead for Obama on His Troubled Trad...</td>\n",
              "      <td>1</td>\n",
              "    </tr>\n",
              "    <tr>\n",
              "      <th>826</th>\n",
              "      <td>The Empire Files: Inside Palestine's Refugee C...</td>\n",
              "      <td>0</td>\n",
              "    </tr>\n",
              "    <tr>\n",
              "      <th>4479</th>\n",
              "      <td>Judge Temporarily Halts Obama's Immigration Ac...</td>\n",
              "      <td>1</td>\n",
              "    </tr>\n",
              "    <tr>\n",
              "      <th>4176</th>\n",
              "      <td>The GOP Is Writing Off 30 Percent of the Ameri...</td>\n",
              "      <td>1</td>\n",
              "    </tr>\n",
              "  </tbody>\n",
              "</table>\n",
              "</div>\n",
              "      <button class=\"colab-df-convert\" onclick=\"convertToInteractive('df-ebf6f040-5ca8-4272-8ed7-70ef23f64a95')\"\n",
              "              title=\"Convert this dataframe to an interactive table.\"\n",
              "              style=\"display:none;\">\n",
              "        \n",
              "  <svg xmlns=\"http://www.w3.org/2000/svg\" height=\"24px\"viewBox=\"0 0 24 24\"\n",
              "       width=\"24px\">\n",
              "    <path d=\"M0 0h24v24H0V0z\" fill=\"none\"/>\n",
              "    <path d=\"M18.56 5.44l.94 2.06.94-2.06 2.06-.94-2.06-.94-.94-2.06-.94 2.06-2.06.94zm-11 1L8.5 8.5l.94-2.06 2.06-.94-2.06-.94L8.5 2.5l-.94 2.06-2.06.94zm10 10l.94 2.06.94-2.06 2.06-.94-2.06-.94-.94-2.06-.94 2.06-2.06.94z\"/><path d=\"M17.41 7.96l-1.37-1.37c-.4-.4-.92-.59-1.43-.59-.52 0-1.04.2-1.43.59L10.3 9.45l-7.72 7.72c-.78.78-.78 2.05 0 2.83L4 21.41c.39.39.9.59 1.41.59.51 0 1.02-.2 1.41-.59l7.78-7.78 2.81-2.81c.8-.78.8-2.07 0-2.86zM5.41 20L4 18.59l7.72-7.72 1.47 1.35L5.41 20z\"/>\n",
              "  </svg>\n",
              "      </button>\n",
              "      \n",
              "  <style>\n",
              "    .colab-df-container {\n",
              "      display:flex;\n",
              "      flex-wrap:wrap;\n",
              "      gap: 12px;\n",
              "    }\n",
              "\n",
              "    .colab-df-convert {\n",
              "      background-color: #E8F0FE;\n",
              "      border: none;\n",
              "      border-radius: 50%;\n",
              "      cursor: pointer;\n",
              "      display: none;\n",
              "      fill: #1967D2;\n",
              "      height: 32px;\n",
              "      padding: 0 0 0 0;\n",
              "      width: 32px;\n",
              "    }\n",
              "\n",
              "    .colab-df-convert:hover {\n",
              "      background-color: #E2EBFA;\n",
              "      box-shadow: 0px 1px 2px rgba(60, 64, 67, 0.3), 0px 1px 3px 1px rgba(60, 64, 67, 0.15);\n",
              "      fill: #174EA6;\n",
              "    }\n",
              "\n",
              "    [theme=dark] .colab-df-convert {\n",
              "      background-color: #3B4455;\n",
              "      fill: #D2E3FC;\n",
              "    }\n",
              "\n",
              "    [theme=dark] .colab-df-convert:hover {\n",
              "      background-color: #434B5C;\n",
              "      box-shadow: 0px 1px 3px 1px rgba(0, 0, 0, 0.15);\n",
              "      filter: drop-shadow(0px 1px 2px rgba(0, 0, 0, 0.3));\n",
              "      fill: #FFFFFF;\n",
              "    }\n",
              "  </style>\n",
              "\n",
              "      <script>\n",
              "        const buttonEl =\n",
              "          document.querySelector('#df-ebf6f040-5ca8-4272-8ed7-70ef23f64a95 button.colab-df-convert');\n",
              "        buttonEl.style.display =\n",
              "          google.colab.kernel.accessAllowed ? 'block' : 'none';\n",
              "\n",
              "        async function convertToInteractive(key) {\n",
              "          const element = document.querySelector('#df-ebf6f040-5ca8-4272-8ed7-70ef23f64a95');\n",
              "          const dataTable =\n",
              "            await google.colab.kernel.invokeFunction('convertToInteractive',\n",
              "                                                     [key], {});\n",
              "          if (!dataTable) return;\n",
              "\n",
              "          const docLinkHtml = 'Like what you see? Visit the ' +\n",
              "            '<a target=\"_blank\" href=https://colab.research.google.com/notebooks/data_table.ipynb>data table notebook</a>'\n",
              "            + ' to learn more about interactive tables.';\n",
              "          element.innerHTML = '';\n",
              "          dataTable['output_type'] = 'display_data';\n",
              "          await google.colab.output.renderOutput(dataTable, element);\n",
              "          const docLink = document.createElement('div');\n",
              "          docLink.innerHTML = docLinkHtml;\n",
              "          element.appendChild(docLink);\n",
              "        }\n",
              "      </script>\n",
              "    </div>\n",
              "  </div>\n",
              "  "
            ]
          },
          "metadata": {},
          "execution_count": 15
        }
      ]
    },
    {
      "cell_type": "code",
      "source": [
        "dataset_noticias.label[4000]"
      ],
      "metadata": {
        "execution": {
          "iopub.status.busy": "2022-10-01T14:23:44.712339Z",
          "iopub.execute_input": "2022-10-01T14:23:44.712547Z",
          "iopub.status.idle": "2022-10-01T14:23:44.719766Z",
          "shell.execute_reply.started": "2022-10-01T14:23:44.712509Z",
          "shell.execute_reply": "2022-10-01T14:23:44.718965Z"
        },
        "trusted": true,
        "colab": {
          "base_uri": "https://localhost:8080/"
        },
        "id": "ZgQW6y5zRvsQ",
        "outputId": "52624180-61a3-40cf-a3b2-2bb67a17a206"
      },
      "execution_count": 16,
      "outputs": [
        {
          "output_type": "execute_result",
          "data": {
            "text/plain": [
              "1"
            ]
          },
          "metadata": {},
          "execution_count": 16
        }
      ]
    },
    {
      "cell_type": "code",
      "source": [
        "dataset_noticias.text[4000]"
      ],
      "metadata": {
        "execution": {
          "iopub.status.busy": "2022-10-01T14:23:44.721114Z",
          "iopub.execute_input": "2022-10-01T14:23:44.721373Z",
          "iopub.status.idle": "2022-10-01T14:23:44.727927Z",
          "shell.execute_reply.started": "2022-10-01T14:23:44.721340Z",
          "shell.execute_reply": "2022-10-01T14:23:44.727159Z"
        },
        "trusted": true,
        "colab": {
          "base_uri": "https://localhost:8080/",
          "height": 123
        },
        "id": "m7B696gJRvsR",
        "outputId": "d58ac3d3-6caa-48de-ad9f-e30e4d006ba0"
      },
      "execution_count": 17,
      "outputs": [
        {
          "output_type": "execute_result",
          "data": {
            "text/plain": [
              "'Why The Obamacare Doomsday Cult Can\\'t Admit It\\'s WrongBut when Congress debated and passed the Patient Protection and Affordable Care Act in 2009 and 2010, opponents were nearly unified in offering grim Keech-like predictions. With Obamacare now in full effect, and the economy on a decided upswing, the dour prognostications are starting to look like Keech\\'s flying saucers. At least if you believe the data. A look at Festinger\\'s theories, though, can explain why that won\\'t matter, and why Americans can expect a continued drumbeat of doom, even as the prophecies fail.\\n\\n“It certainly has not had the baleful effects the critics were predicting,” said Paul Van de Water, a senior fellow at the Center on Budget and Policy Priorities who supports the law, but never thought it would have much economic impact. “On balance it may be a modest plus, to the extent that it has contributed to the slowdown of growth in health care costs.”\\n\\nBut that\\'s not how Capitol Hill’s gloomsday cult sees it. Indeed, try getting any of them to admit the Affordable Care Act jobs slaughter has not happened, and they sound like the punchline to the old joke where a spouse gets caught in the act cheating: “Who are you going to believe -- me, or your lying eyes?”\\n\\n\"With politicians, you can’t be sure that what comes out of their mouths is really what’s in their head,\" said Elliot Aronson, one of Festinger’s former students who is regarded as the foremost expert on cognitive dissonance alive today. \"When it comes to politics, we have to really look closely.\"\\n\\nThe way cognitive dissonance works is that when people are confronted with information that contradicts either their beliefs or actions, they feel discomfort. To feel better, they either have to modify their beliefs and actions, or find some way to discount the disconfirming information. And the more effort someone invests in a particular action or idea, the greater the lengths they will go in crafting justifications to ease their discomfort.\\n\\nAronson and co-author Carol Tavris looked closely at that phenomenon in their 2007 book, Mistakes Were Made (but not by me). Among the examples are prosecutors who insist that people cleared by DNA evidence are still guilty; scientists who insist results that agree with funders’ interests could not have been swayed, and people who like an idea from their political party, but dislike the same idea if told it came from the opposition party.\\n\\nIndeed, committing to a specific ideology can make it much harder to see facts clearly, let alone acknowledge them. Aronson noted that it’s especially hard for people who spent the last five years opposing a specific policy. “These guys are so committed to the belief that Obama can’t do anything right, and that Obamacare is socialism, that it would be very, very difficult for them to examine the data objectively,\" he said. \"I think that’s what’s wrong with politics, that’s what’s wrong with ideology, that’s what’s wrong with politics that are ideologically driven.”\\n\\n“One could create some line of argument that the economy would be much, much stronger without the ACA, but that really seems to be a stretch,” said Van de Water, the economist. “We have a very large economy. Even as important as the Affordable Care Act is, it’s working on a major sector of the economy, but only at the margins. Even in advance, one would have thought it wasn’t going to have a huge effect.”'"
            ],
            "application/vnd.google.colaboratory.intrinsic+json": {
              "type": "string"
            }
          },
          "metadata": {},
          "execution_count": 17
        }
      ]
    },
    {
      "cell_type": "code",
      "source": [
        "max_len=100\n",
        "data_text=dataset_noticias[\"text\"]\n",
        "data_label=dataset_noticias[\"label\"]\n"
      ],
      "metadata": {
        "execution": {
          "iopub.status.busy": "2022-10-01T14:23:44.729208Z",
          "iopub.execute_input": "2022-10-01T14:23:44.729977Z",
          "iopub.status.idle": "2022-10-01T14:23:44.736289Z",
          "shell.execute_reply.started": "2022-10-01T14:23:44.729942Z",
          "shell.execute_reply": "2022-10-01T14:23:44.735729Z"
        },
        "trusted": true,
        "id": "CoHnpXgFRvsR"
      },
      "execution_count": 18,
      "outputs": []
    },
    {
      "cell_type": "code",
      "source": [
        "bert_tokenizer = BertTokenizer.from_pretrained(\"bert-base-uncased\")\n"
      ],
      "metadata": {
        "execution": {
          "iopub.status.busy": "2022-10-01T14:23:44.737313Z",
          "iopub.execute_input": "2022-10-01T14:23:44.738893Z",
          "iopub.status.idle": "2022-10-01T14:23:49.278543Z",
          "shell.execute_reply.started": "2022-10-01T14:23:44.738860Z",
          "shell.execute_reply": "2022-10-01T14:23:49.277886Z"
        },
        "trusted": true,
        "id": "x7YoAfEmRvsS"
      },
      "execution_count": 19,
      "outputs": []
    },
    {
      "cell_type": "code",
      "source": [
        "bert_model = TFBertModel.from_pretrained('bert-base-uncased')"
      ],
      "metadata": {
        "execution": {
          "iopub.status.busy": "2022-10-01T14:23:49.279762Z",
          "iopub.execute_input": "2022-10-01T14:23:49.280106Z",
          "iopub.status.idle": "2022-10-01T14:24:14.304696Z",
          "shell.execute_reply.started": "2022-10-01T14:23:49.280069Z",
          "shell.execute_reply": "2022-10-01T14:24:14.303956Z"
        },
        "trusted": true,
        "colab": {
          "base_uri": "https://localhost:8080/"
        },
        "id": "kv6sXf_ORvsS",
        "outputId": "1becd09f-60df-4326-fca6-a0097683ad0f"
      },
      "execution_count": 20,
      "outputs": [
        {
          "output_type": "stream",
          "name": "stderr",
          "text": [
            "Some layers from the model checkpoint at bert-base-uncased were not used when initializing TFBertModel: ['nsp___cls', 'mlm___cls']\n",
            "- This IS expected if you are initializing TFBertModel from the checkpoint of a model trained on another task or with another architecture (e.g. initializing a BertForSequenceClassification model from a BertForPreTraining model).\n",
            "- This IS NOT expected if you are initializing TFBertModel from the checkpoint of a model that you expect to be exactly identical (initializing a BertForSequenceClassification model from a BertForSequenceClassification model).\n",
            "All the layers of TFBertModel were initialized from the model checkpoint at bert-base-uncased.\n",
            "If your task is similar to the task the model of the checkpoint was trained on, you can already use TFBertModel for predictions without further training.\n"
          ]
        }
      ]
    },
    {
      "cell_type": "code",
      "source": [
        "tokenizer = AutoTokenizer.from_pretrained('bert-base-uncased')"
      ],
      "metadata": {
        "execution": {
          "iopub.status.busy": "2022-10-01T14:24:14.306258Z",
          "iopub.execute_input": "2022-10-01T14:24:14.306801Z",
          "iopub.status.idle": "2022-10-01T14:24:17.118960Z",
          "shell.execute_reply.started": "2022-10-01T14:24:14.306761Z",
          "shell.execute_reply": "2022-10-01T14:24:17.118090Z"
        },
        "trusted": true,
        "id": "6O8-UWAnRvsT"
      },
      "execution_count": 21,
      "outputs": []
    },
    {
      "cell_type": "code",
      "source": [
        "X_train, X_test, Y_train, Y_test = train_test_split(data_text, data_label, stratify = data_label, test_size = 0.2, random_state =42)"
      ],
      "metadata": {
        "execution": {
          "iopub.status.busy": "2022-10-01T14:24:17.123107Z",
          "iopub.execute_input": "2022-10-01T14:24:17.125008Z",
          "iopub.status.idle": "2022-10-01T14:24:17.172210Z",
          "shell.execute_reply.started": "2022-10-01T14:24:17.124967Z",
          "shell.execute_reply": "2022-10-01T14:24:17.171494Z"
        },
        "trusted": true,
        "id": "Y0j_IHjIRvsT"
      },
      "execution_count": 22,
      "outputs": []
    },
    {
      "cell_type": "code",
      "source": [
        "def tokenize(X):\n",
        "    \n",
        "    X = bert_tokenizer(\n",
        "        text = list(X),\n",
        "        add_special_tokens = True,\n",
        "        max_length = 100,\n",
        "        truncation = True,\n",
        "        padding = 'max_length',\n",
        "        return_tensors = 'tf',\n",
        "        return_token_type_ids = False,\n",
        "        return_attention_mask = True,\n",
        "        verbose = True\n",
        "        )\n",
        "    return X"
      ],
      "metadata": {
        "execution": {
          "iopub.status.busy": "2022-10-01T14:24:17.175747Z",
          "iopub.execute_input": "2022-10-01T14:24:17.177503Z",
          "iopub.status.idle": "2022-10-01T14:24:17.184218Z",
          "shell.execute_reply.started": "2022-10-01T14:24:17.177466Z",
          "shell.execute_reply": "2022-10-01T14:24:17.183266Z"
        },
        "trusted": true,
        "id": "5xJeuYhJRvsT"
      },
      "execution_count": 23,
      "outputs": []
    },
    {
      "cell_type": "code",
      "source": [
        "X_train_token = tokenize(X_train)\n",
        "X_test_token = tokenize(X_test)"
      ],
      "metadata": {
        "execution": {
          "iopub.status.busy": "2022-10-01T14:24:17.188237Z",
          "iopub.execute_input": "2022-10-01T14:24:17.190492Z",
          "iopub.status.idle": "2022-10-01T14:33:59.098695Z",
          "shell.execute_reply.started": "2022-10-01T14:24:17.190456Z",
          "shell.execute_reply": "2022-10-01T14:33:59.097677Z"
        },
        "trusted": true,
        "id": "Gy49WkD2RvsU"
      },
      "execution_count": 24,
      "outputs": []
    },
    {
      "cell_type": "code",
      "source": [
        "maxlen=100"
      ],
      "metadata": {
        "execution": {
          "iopub.status.busy": "2022-10-01T14:33:59.100412Z",
          "iopub.execute_input": "2022-10-01T14:33:59.100722Z",
          "iopub.status.idle": "2022-10-01T14:33:59.105731Z",
          "shell.execute_reply.started": "2022-10-01T14:33:59.100681Z",
          "shell.execute_reply": "2022-10-01T14:33:59.104538Z"
        },
        "trusted": true,
        "id": "RdlJ0Pu1RvsU"
      },
      "execution_count": 25,
      "outputs": []
    },
    {
      "cell_type": "markdown",
      "source": [
        "create bert model"
      ],
      "metadata": {
        "id": "ENUz5PLnRvsU"
      }
    },
    {
      "cell_type": "code",
      "source": [
        "def create_model():\n",
        "    dropout_rate=0.2\n",
        "    input_ids=Input(shape=(maxlen,),dtype=tf.int32)\n",
        "    input_mask=Input(shape=(maxlen,),dtype=tf.int32)\n",
        "    bert_layer=bert_model([input_ids,input_mask])[1]\n",
        "    x=Dropout(0.5)(bert_layer)\n",
        "    x=Dense(64,activation=\"tanh\")(x)\n",
        "    x=Dropout(0.2)(x)\n",
        "    x=Dense(1,activation=\"sigmoid\")(x)\n",
        "    model = Model(inputs=[input_ids, input_mask], outputs=x)\n",
        "    return model\n",
        "    \n",
        "    "
      ],
      "metadata": {
        "execution": {
          "iopub.status.busy": "2022-10-01T14:33:59.107251Z",
          "iopub.execute_input": "2022-10-01T14:33:59.107559Z",
          "iopub.status.idle": "2022-10-01T14:33:59.117198Z",
          "shell.execute_reply.started": "2022-10-01T14:33:59.107524Z",
          "shell.execute_reply": "2022-10-01T14:33:59.116343Z"
        },
        "trusted": true,
        "id": "yeAZqsRvRvsU"
      },
      "execution_count": 26,
      "outputs": []
    },
    {
      "cell_type": "code",
      "source": [
        "model=create_model()\n",
        "model.summary()"
      ],
      "metadata": {
        "execution": {
          "iopub.status.busy": "2022-10-01T14:33:59.118484Z",
          "iopub.execute_input": "2022-10-01T14:33:59.118759Z",
          "iopub.status.idle": "2022-10-01T14:34:04.799161Z",
          "shell.execute_reply.started": "2022-10-01T14:33:59.118725Z",
          "shell.execute_reply": "2022-10-01T14:34:04.798412Z"
        },
        "trusted": true,
        "colab": {
          "base_uri": "https://localhost:8080/"
        },
        "id": "s6nDP7KCRvsV",
        "outputId": "580a178f-8b3f-4e14-f5ee-ed5d6232e58a"
      },
      "execution_count": 27,
      "outputs": [
        {
          "output_type": "stream",
          "name": "stdout",
          "text": [
            "Model: \"model\"\n",
            "__________________________________________________________________________________________________\n",
            " Layer (type)                   Output Shape         Param #     Connected to                     \n",
            "==================================================================================================\n",
            " input_1 (InputLayer)           [(None, 100)]        0           []                               \n",
            "                                                                                                  \n",
            " input_2 (InputLayer)           [(None, 100)]        0           []                               \n",
            "                                                                                                  \n",
            " tf_bert_model (TFBertModel)    TFBaseModelOutputWi  109482240   ['input_1[0][0]',                \n",
            "                                thPoolingAndCrossAt               'input_2[0][0]']                \n",
            "                                tentions(last_hidde                                               \n",
            "                                n_state=(None, 100,                                               \n",
            "                                 768),                                                            \n",
            "                                 pooler_output=(Non                                               \n",
            "                                e, 768),                                                          \n",
            "                                 past_key_values=No                                               \n",
            "                                ne, hidden_states=N                                               \n",
            "                                one, attentions=Non                                               \n",
            "                                e, cross_attentions                                               \n",
            "                                =None)                                                            \n",
            "                                                                                                  \n",
            " dropout_37 (Dropout)           (None, 768)          0           ['tf_bert_model[0][1]']          \n",
            "                                                                                                  \n",
            " dense (Dense)                  (None, 64)           49216       ['dropout_37[0][0]']             \n",
            "                                                                                                  \n",
            " dropout_38 (Dropout)           (None, 64)           0           ['dense[0][0]']                  \n",
            "                                                                                                  \n",
            " dense_1 (Dense)                (None, 1)            65          ['dropout_38[0][0]']             \n",
            "                                                                                                  \n",
            "==================================================================================================\n",
            "Total params: 109,531,521\n",
            "Trainable params: 109,531,521\n",
            "Non-trainable params: 0\n",
            "__________________________________________________________________________________________________\n"
          ]
        }
      ]
    },
    {
      "cell_type": "code",
      "source": [
        "optimizer = Adam(learning_rate=1e-05, epsilon=1e-08, decay=0.01,clipnorm=1.0)\n",
        "model.compile(optimizer = optimizer, loss = 'binary_crossentropy', metrics = 'accuracy')"
      ],
      "metadata": {
        "execution": {
          "iopub.status.busy": "2022-10-01T14:34:04.800248Z",
          "iopub.execute_input": "2022-10-01T14:34:04.800796Z",
          "iopub.status.idle": "2022-10-01T14:34:04.818058Z",
          "shell.execute_reply.started": "2022-10-01T14:34:04.800759Z",
          "shell.execute_reply": "2022-10-01T14:34:04.817274Z"
        },
        "trusted": true,
        "id": "dX9JX3aBRvsV"
      },
      "execution_count": 28,
      "outputs": []
    },
    {
      "cell_type": "code",
      "source": [
        "callback = tf.keras.callbacks.EarlyStopping(monitor='val_loss', mode='max', verbose=1, patience=50,baseline=0.4,min_delta=0.0001,restore_best_weights=False)"
      ],
      "metadata": {
        "execution": {
          "iopub.status.busy": "2022-10-01T14:34:04.819417Z",
          "iopub.execute_input": "2022-10-01T14:34:04.819720Z",
          "iopub.status.idle": "2022-10-01T14:34:04.826797Z",
          "shell.execute_reply.started": "2022-10-01T14:34:04.819655Z",
          "shell.execute_reply": "2022-10-01T14:34:04.826103Z"
        },
        "trusted": true,
        "id": "6_dr8tg3RvsW"
      },
      "execution_count": 29,
      "outputs": []
    },
    {
      "cell_type": "code",
      "source": [
        "history = model.fit(x = {'input_1':X_train_token['input_ids'],'input_2':X_train_token['attention_mask']}, y = Y_train, epochs=2, validation_split = 0.2, batch_size = 30, callbacks=[callback])"
      ],
      "metadata": {
        "execution": {
          "iopub.status.busy": "2022-10-01T14:34:04.828085Z",
          "iopub.execute_input": "2022-10-01T14:34:04.828350Z",
          "iopub.status.idle": "2022-10-01T15:38:32.483530Z",
          "shell.execute_reply.started": "2022-10-01T14:34:04.828316Z",
          "shell.execute_reply": "2022-10-01T15:38:32.482804Z"
        },
        "trusted": true,
        "colab": {
          "base_uri": "https://localhost:8080/"
        },
        "id": "LpwiEYehRvsW",
        "outputId": "d296f518-f3ce-4e0b-faa6-bf15fe3adab6"
      },
      "execution_count": 30,
      "outputs": [
        {
          "output_type": "stream",
          "name": "stdout",
          "text": [
            "Epoch 1/2\n",
            "136/136 [==============================] - 4697s 34s/step - loss: 0.5390 - accuracy: 0.7163 - val_loss: 0.2778 - val_accuracy: 0.8895\n",
            "Epoch 2/2\n",
            "136/136 [==============================] - 4730s 35s/step - loss: 0.2673 - accuracy: 0.8984 - val_loss: 0.2239 - val_accuracy: 0.9201\n"
          ]
        }
      ]
    },
    {
      "cell_type": "code",
      "source": [
        "# summarize history for accuracy\n",
        "plt.plot(history.history['accuracy'])\n",
        "plt.plot(history.history['val_accuracy'])\n",
        "plt.title('model accuracy')\n",
        "plt.ylabel('accuracy')\n",
        "plt.xlabel('epoch')\n",
        "plt.legend(['train', 'test'], loc='upper left')\n",
        "plt.show()"
      ],
      "metadata": {
        "execution": {
          "iopub.status.busy": "2022-10-01T15:38:32.485133Z",
          "iopub.execute_input": "2022-10-01T15:38:32.485476Z",
          "iopub.status.idle": "2022-10-01T15:38:32.771427Z",
          "shell.execute_reply.started": "2022-10-01T15:38:32.485437Z",
          "shell.execute_reply": "2022-10-01T15:38:32.770628Z"
        },
        "trusted": true,
        "colab": {
          "base_uri": "https://localhost:8080/",
          "height": 301
        },
        "id": "6-iWx95YRvsW",
        "outputId": "23c9c353-5468-47be-c7d6-7a8ba9ea02cb"
      },
      "execution_count": 31,
      "outputs": [
        {
          "output_type": "display_data",
          "data": {
            "text/plain": [
              "<Figure size 432x288 with 1 Axes>"
            ],
            "image/png": "[encoded data removed]"
          },
          "metadata": {}
        }
      ]
    },
    {
      "cell_type": "code",
      "source": [
        "# summarize history for loss\n",
        "plt.plot(history.history['loss'])\n",
        "plt.plot(history.history['val_loss'])\n",
        "plt.title('model loss')\n",
        "plt.ylabel('loss')\n",
        "plt.xlabel('epoch')\n",
        "plt.legend(['train', 'test'], loc='upper left')\n",
        "plt.show()\n"
      ],
      "metadata": {
        "execution": {
          "iopub.status.busy": "2022-10-01T15:38:32.772616Z",
          "iopub.execute_input": "2022-10-01T15:38:32.773828Z",
          "iopub.status.idle": "2022-10-01T15:38:33.018390Z",
          "shell.execute_reply.started": "2022-10-01T15:38:32.773788Z",
          "shell.execute_reply": "2022-10-01T15:38:33.017572Z"
        },
        "trusted": true,
        "colab": {
          "base_uri": "https://localhost:8080/",
          "height": 301
        },
        "id": "miy1PG2URvsX",
        "outputId": "ebd71f37-cef8-4f0e-fe45-42057f5d3c34"
      },
      "execution_count": 32,
      "outputs": [
        {
          "output_type": "display_data",
          "data": {
            "text/plain": [
              "<Figure size 432x288 with 1 Axes>"
            ],
            "image/png": "[encoded data removed]"
          },
          "metadata": {}
        }
      ]
    },
    {
      "cell_type": "code",
      "source": [
        "y_pred = np.where(model.predict({ 'input_1' : X_test_token['input_ids'] , 'input_2' : X_test_token['attention_mask']}) >=0.5,1,0)"
      ],
      "metadata": {
        "execution": {
          "iopub.status.busy": "2022-10-01T15:38:33.019541Z",
          "iopub.execute_input": "2022-10-01T15:38:33.019826Z",
          "iopub.status.idle": "2022-10-01T15:39:11.312551Z",
          "shell.execute_reply.started": "2022-10-01T15:38:33.019786Z",
          "shell.execute_reply": "2022-10-01T15:39:11.311735Z"
        },
        "trusted": true,
        "colab": {
          "base_uri": "https://localhost:8080/"
        },
        "id": "mXSHlFQ_RvsX",
        "outputId": "1a7e812e-8044-4a50-f71b-ae79555c6f37"
      },
      "execution_count": 33,
      "outputs": [
        {
          "output_type": "stream",
          "name": "stdout",
          "text": [
            "40/40 [==============================] - 438s 11s/step\n"
          ]
        }
      ]
    },
    {
      "cell_type": "markdown",
      "source": [
        "Confusion matrix"
      ],
      "metadata": {
        "id": "RJfI3n37RvsY"
      }
    },
    {
      "cell_type": "code",
      "source": [
        "from mlxtend.plotting import plot_confusion_matrix\n",
        "conf_matrix = confusion_matrix(Y_test,y_pred)\n",
        "fig, ax = plot_confusion_matrix(conf_mat=conf_matrix, figsize=(6, 6), cmap=plt.cm.Greens)\n",
        "plt.xlabel('Predictions', fontsize=18)\n",
        "plt.ylabel('Actuals', fontsize=18)\n",
        "plt.title('Confusion Matrix', fontsize=18)\n",
        "plt.show()"
      ],
      "metadata": {
        "execution": {
          "iopub.status.busy": "2022-10-01T15:39:11.313975Z",
          "iopub.execute_input": "2022-10-01T15:39:11.314387Z",
          "iopub.status.idle": "2022-10-01T15:39:11.519791Z",
          "shell.execute_reply.started": "2022-10-01T15:39:11.314352Z",
          "shell.execute_reply": "2022-10-01T15:39:11.518950Z"
        },
        "trusted": true,
        "colab": {
          "base_uri": "https://localhost:8080/",
          "height": 435
        },
        "id": "Ct_up2hMRvsY",
        "outputId": "3c931e05-cec8-4d49-8a08-6c8f0e248475"
      },
      "execution_count": 34,
      "outputs": [
        {
          "output_type": "display_data",
          "data": {
            "text/plain": [
              "<Figure size 432x432 with 1 Axes>"
            ],
            "image/png": "[encoded data removed]"
          },
          "metadata": {}
        }
      ]
    },
    {
      "cell_type": "code",
      "source": [
        "print(classification_report(Y_test,y_pred))"
      ],
      "metadata": {
        "execution": {
          "iopub.status.busy": "2022-10-01T15:39:11.521200Z",
          "iopub.execute_input": "2022-10-01T15:39:11.521469Z",
          "iopub.status.idle": "2022-10-01T15:39:11.543134Z",
          "shell.execute_reply.started": "2022-10-01T15:39:11.521435Z",
          "shell.execute_reply": "2022-10-01T15:39:11.542330Z"
        },
        "trusted": true,
        "colab": {
          "base_uri": "https://localhost:8080/"
        },
        "id": "9EeTAARdRvsY",
        "outputId": "04b0120a-a48b-4890-f612-491213fd67e3"
      },
      "execution_count": 35,
      "outputs": [
        {
          "output_type": "stream",
          "name": "stdout",
          "text": [
            "              precision    recall  f1-score   support\n",
            "\n",
            "           0       0.93      0.91      0.92       633\n",
            "           1       0.91      0.93      0.92       634\n",
            "\n",
            "    accuracy                           0.92      1267\n",
            "   macro avg       0.92      0.92      0.92      1267\n",
            "weighted avg       0.92      0.92      0.92      1267\n",
            "\n"
          ]
        }
      ]
    },
    {
      "cell_type": "code",
      "source": [],
      "metadata": {
        "id": "M0iCMFzoRvsb"
      },
      "execution_count": null,
      "outputs": []
    },
    {
      "cell_type": "code",
      "source": [],
      "metadata": {
        "id": "QywAoF94Rvsc"
      },
      "execution_count": null,
      "outputs": []
    }
  ]
}